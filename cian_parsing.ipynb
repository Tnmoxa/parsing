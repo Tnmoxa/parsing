{
 "cells": [
  {
   "cell_type": "code",
   "execution_count": 1,
   "metadata": {
    "collapsed": true,
    "ExecuteTime": {
     "end_time": "2023-06-07T05:58:02.171240251Z",
     "start_time": "2023-06-07T05:58:00.510763633Z"
    }
   },
   "outputs": [
    {
     "name": "stdout",
     "output_type": "stream",
     "text": [
      "Requirement already satisfied: selenium in ./.venv/lib/python3.10/site-packages (4.9.1)\r\n",
      "Requirement already satisfied: trio~=0.17 in ./.venv/lib/python3.10/site-packages (from selenium) (0.22.0)\r\n",
      "Requirement already satisfied: trio-websocket~=0.9 in ./.venv/lib/python3.10/site-packages (from selenium) (0.10.2)\r\n",
      "Requirement already satisfied: urllib3[socks]<3,>=1.26 in ./.venv/lib/python3.10/site-packages (from selenium) (2.0.2)\r\n",
      "Requirement already satisfied: certifi>=2021.10.8 in ./.venv/lib/python3.10/site-packages (from selenium) (2023.5.7)\r\n",
      "Requirement already satisfied: attrs>=19.2.0 in ./.venv/lib/python3.10/site-packages (from trio~=0.17->selenium) (23.1.0)\r\n",
      "Requirement already satisfied: outcome in ./.venv/lib/python3.10/site-packages (from trio~=0.17->selenium) (1.2.0)\r\n",
      "Requirement already satisfied: async-generator>=1.9 in ./.venv/lib/python3.10/site-packages (from trio~=0.17->selenium) (1.10)\r\n",
      "Requirement already satisfied: idna in ./.venv/lib/python3.10/site-packages (from trio~=0.17->selenium) (3.4)\r\n",
      "Requirement already satisfied: sniffio in ./.venv/lib/python3.10/site-packages (from trio~=0.17->selenium) (1.3.0)\r\n",
      "Requirement already satisfied: sortedcontainers in ./.venv/lib/python3.10/site-packages (from trio~=0.17->selenium) (2.4.0)\r\n",
      "Requirement already satisfied: exceptiongroup>=1.0.0rc9 in ./.venv/lib/python3.10/site-packages (from trio~=0.17->selenium) (1.1.1)\r\n",
      "Requirement already satisfied: wsproto>=0.14 in ./.venv/lib/python3.10/site-packages (from trio-websocket~=0.9->selenium) (1.2.0)\r\n",
      "Requirement already satisfied: pysocks!=1.5.7,<2.0,>=1.5.6 in ./.venv/lib/python3.10/site-packages (from urllib3[socks]<3,>=1.26->selenium) (1.7.1)\r\n",
      "Requirement already satisfied: h11<1,>=0.9.0 in ./.venv/lib/python3.10/site-packages (from wsproto>=0.14->trio-websocket~=0.9->selenium) (0.14.0)\r\n",
      "\r\n",
      "\u001B[1m[\u001B[0m\u001B[34;49mnotice\u001B[0m\u001B[1;39;49m]\u001B[0m\u001B[39;49m A new release of pip available: \u001B[0m\u001B[31;49m22.3.1\u001B[0m\u001B[39;49m -> \u001B[0m\u001B[32;49m23.1.2\u001B[0m\r\n",
      "\u001B[1m[\u001B[0m\u001B[34;49mnotice\u001B[0m\u001B[1;39;49m]\u001B[0m\u001B[39;49m To update, run: \u001B[0m\u001B[32;49mpip install --upgrade pip\u001B[0m\r\n",
      "Requirement already satisfied: undetected-chromedriver in ./.venv/lib/python3.10/site-packages (3.4.7)\r\n",
      "Requirement already satisfied: selenium>=4.0.0 in ./.venv/lib/python3.10/site-packages (from undetected-chromedriver) (4.9.1)\r\n",
      "Requirement already satisfied: requests in ./.venv/lib/python3.10/site-packages (from undetected-chromedriver) (2.31.0)\r\n",
      "Requirement already satisfied: websockets in ./.venv/lib/python3.10/site-packages (from undetected-chromedriver) (11.0.3)\r\n",
      "Requirement already satisfied: trio-websocket~=0.9 in ./.venv/lib/python3.10/site-packages (from selenium>=4.0.0->undetected-chromedriver) (0.10.2)\r\n",
      "Requirement already satisfied: trio~=0.17 in ./.venv/lib/python3.10/site-packages (from selenium>=4.0.0->undetected-chromedriver) (0.22.0)\r\n",
      "Requirement already satisfied: urllib3[socks]<3,>=1.26 in ./.venv/lib/python3.10/site-packages (from selenium>=4.0.0->undetected-chromedriver) (2.0.2)\r\n",
      "Requirement already satisfied: certifi>=2021.10.8 in ./.venv/lib/python3.10/site-packages (from selenium>=4.0.0->undetected-chromedriver) (2023.5.7)\r\n",
      "Requirement already satisfied: charset-normalizer<4,>=2 in ./.venv/lib/python3.10/site-packages (from requests->undetected-chromedriver) (3.1.0)\r\n",
      "Requirement already satisfied: idna<4,>=2.5 in ./.venv/lib/python3.10/site-packages (from requests->undetected-chromedriver) (3.4)\r\n",
      "Requirement already satisfied: attrs>=19.2.0 in ./.venv/lib/python3.10/site-packages (from trio~=0.17->selenium>=4.0.0->undetected-chromedriver) (23.1.0)\r\n",
      "Requirement already satisfied: sortedcontainers in ./.venv/lib/python3.10/site-packages (from trio~=0.17->selenium>=4.0.0->undetected-chromedriver) (2.4.0)\r\n",
      "Requirement already satisfied: exceptiongroup>=1.0.0rc9 in ./.venv/lib/python3.10/site-packages (from trio~=0.17->selenium>=4.0.0->undetected-chromedriver) (1.1.1)\r\n",
      "Requirement already satisfied: sniffio in ./.venv/lib/python3.10/site-packages (from trio~=0.17->selenium>=4.0.0->undetected-chromedriver) (1.3.0)\r\n",
      "Requirement already satisfied: outcome in ./.venv/lib/python3.10/site-packages (from trio~=0.17->selenium>=4.0.0->undetected-chromedriver) (1.2.0)\r\n",
      "Requirement already satisfied: async-generator>=1.9 in ./.venv/lib/python3.10/site-packages (from trio~=0.17->selenium>=4.0.0->undetected-chromedriver) (1.10)\r\n",
      "Requirement already satisfied: wsproto>=0.14 in ./.venv/lib/python3.10/site-packages (from trio-websocket~=0.9->selenium>=4.0.0->undetected-chromedriver) (1.2.0)\r\n",
      "Requirement already satisfied: pysocks!=1.5.7,<2.0,>=1.5.6 in ./.venv/lib/python3.10/site-packages (from urllib3[socks]<3,>=1.26->selenium>=4.0.0->undetected-chromedriver) (1.7.1)\r\n",
      "Requirement already satisfied: h11<1,>=0.9.0 in ./.venv/lib/python3.10/site-packages (from wsproto>=0.14->trio-websocket~=0.9->selenium>=4.0.0->undetected-chromedriver) (0.14.0)\r\n",
      "\r\n",
      "\u001B[1m[\u001B[0m\u001B[34;49mnotice\u001B[0m\u001B[1;39;49m]\u001B[0m\u001B[39;49m A new release of pip available: \u001B[0m\u001B[31;49m22.3.1\u001B[0m\u001B[39;49m -> \u001B[0m\u001B[32;49m23.1.2\u001B[0m\r\n",
      "\u001B[1m[\u001B[0m\u001B[34;49mnotice\u001B[0m\u001B[1;39;49m]\u001B[0m\u001B[39;49m To update, run: \u001B[0m\u001B[32;49mpip install --upgrade pip\u001B[0m\r\n"
     ]
    }
   ],
   "source": [
    "!pip install selenium\n",
    "!pip install undetected-chromedriver"
   ]
  },
  {
   "cell_type": "code",
   "execution_count": 23,
   "outputs": [],
   "source": [
    "from selenium.webdriver.common.by import By\n",
    "from selenium.common.exceptions import NoSuchElementException\n",
    "import undetected_chromedriver as uc\n",
    "import pandas as pd\n",
    "import time\n",
    "from selenium.webdriver.support.wait import WebDriverWait\n",
    "from selenium.webdriver.support import expected_conditions as EC"
   ],
   "metadata": {
    "collapsed": false,
    "ExecuteTime": {
     "end_time": "2023-06-07T11:02:01.641489708Z",
     "start_time": "2023-06-07T11:02:01.601397793Z"
    }
   }
  },
  {
   "cell_type": "code",
   "execution_count": 28,
   "outputs": [],
   "source": [
    "# парсинг по листам объявлений\n",
    "start_time = time.time()\n",
    "url = \"https://krym.cian.ru/kupit-kvartiru/\"\n",
    "\n",
    "driver = uc.Chrome()\n",
    "driver.get(url)\n",
    "\n",
    "cookie_notification = WebDriverWait(driver, 10).until(\n",
    "    EC.presence_of_element_located((By.XPATH, \".//div[@data-name='CookiesNotification']\"))\n",
    ")\n",
    "\n",
    "# Закрыть уведомление о файлах cookie, если оно видимо\n",
    "if cookie_notification.is_displayed():\n",
    "    cookie_button = cookie_notification.find_element(By.CLASS_NAME, \"_25d45facb5--button--KVooB._25d45facb5--button--gs5R_._25d45facb5--M--I5Xj6._25d45facb5--button--DsA7r\")\n",
    "    cookie_button.click()\n",
    "\n",
    "# Переключиться на основное окно\n",
    "driver.switch_to.default_content()"
   ],
   "metadata": {
    "collapsed": false,
    "ExecuteTime": {
     "end_time": "2023-06-07T11:16:42.248060262Z",
     "start_time": "2023-06-07T11:16:38.064184583Z"
    }
   }
  },
  {
   "cell_type": "code",
   "execution_count": 30,
   "outputs": [
    {
     "ename": "MaxRetryError",
     "evalue": "HTTPConnectionPool(host='localhost', port=55441): Max retries exceeded with url: /session/a10a385e9f87c5c41f11b60329945155/elements (Caused by NewConnectionError('<urllib3.connection.HTTPConnection object at 0x7f4abe088b20>: Failed to establish a new connection: [Errno 111] Connection refused'))",
     "output_type": "error",
     "traceback": [
      "\u001B[0;31m---------------------------------------------------------------------------\u001B[0m",
      "\u001B[0;31mConnectionRefusedError\u001B[0m                    Traceback (most recent call last)",
      "File \u001B[0;32m~/PycharmProjects/parsing/.venv/lib/python3.10/site-packages/urllib3/connection.py:200\u001B[0m, in \u001B[0;36mHTTPConnection._new_conn\u001B[0;34m(self)\u001B[0m\n\u001B[1;32m    199\u001B[0m \u001B[38;5;28;01mtry\u001B[39;00m:\n\u001B[0;32m--> 200\u001B[0m     sock \u001B[38;5;241m=\u001B[39m \u001B[43mconnection\u001B[49m\u001B[38;5;241;43m.\u001B[39;49m\u001B[43mcreate_connection\u001B[49m\u001B[43m(\u001B[49m\n\u001B[1;32m    201\u001B[0m \u001B[43m        \u001B[49m\u001B[43m(\u001B[49m\u001B[38;5;28;43mself\u001B[39;49m\u001B[38;5;241;43m.\u001B[39;49m\u001B[43m_dns_host\u001B[49m\u001B[43m,\u001B[49m\u001B[43m \u001B[49m\u001B[38;5;28;43mself\u001B[39;49m\u001B[38;5;241;43m.\u001B[39;49m\u001B[43mport\u001B[49m\u001B[43m)\u001B[49m\u001B[43m,\u001B[49m\n\u001B[1;32m    202\u001B[0m \u001B[43m        \u001B[49m\u001B[38;5;28;43mself\u001B[39;49m\u001B[38;5;241;43m.\u001B[39;49m\u001B[43mtimeout\u001B[49m\u001B[43m,\u001B[49m\n\u001B[1;32m    203\u001B[0m \u001B[43m        \u001B[49m\u001B[43msource_address\u001B[49m\u001B[38;5;241;43m=\u001B[39;49m\u001B[38;5;28;43mself\u001B[39;49m\u001B[38;5;241;43m.\u001B[39;49m\u001B[43msource_address\u001B[49m\u001B[43m,\u001B[49m\n\u001B[1;32m    204\u001B[0m \u001B[43m        \u001B[49m\u001B[43msocket_options\u001B[49m\u001B[38;5;241;43m=\u001B[39;49m\u001B[38;5;28;43mself\u001B[39;49m\u001B[38;5;241;43m.\u001B[39;49m\u001B[43msocket_options\u001B[49m\u001B[43m,\u001B[49m\n\u001B[1;32m    205\u001B[0m \u001B[43m    \u001B[49m\u001B[43m)\u001B[49m\n\u001B[1;32m    206\u001B[0m \u001B[38;5;28;01mexcept\u001B[39;00m socket\u001B[38;5;241m.\u001B[39mgaierror \u001B[38;5;28;01mas\u001B[39;00m e:\n",
      "File \u001B[0;32m~/PycharmProjects/parsing/.venv/lib/python3.10/site-packages/urllib3/util/connection.py:85\u001B[0m, in \u001B[0;36mcreate_connection\u001B[0;34m(address, timeout, source_address, socket_options)\u001B[0m\n\u001B[1;32m     84\u001B[0m \u001B[38;5;28;01mtry\u001B[39;00m:\n\u001B[0;32m---> 85\u001B[0m     \u001B[38;5;28;01mraise\u001B[39;00m err\n\u001B[1;32m     86\u001B[0m \u001B[38;5;28;01mfinally\u001B[39;00m:\n\u001B[1;32m     87\u001B[0m     \u001B[38;5;66;03m# Break explicitly a reference cycle\u001B[39;00m\n",
      "File \u001B[0;32m~/PycharmProjects/parsing/.venv/lib/python3.10/site-packages/urllib3/util/connection.py:73\u001B[0m, in \u001B[0;36mcreate_connection\u001B[0;34m(address, timeout, source_address, socket_options)\u001B[0m\n\u001B[1;32m     72\u001B[0m     sock\u001B[38;5;241m.\u001B[39mbind(source_address)\n\u001B[0;32m---> 73\u001B[0m \u001B[43msock\u001B[49m\u001B[38;5;241;43m.\u001B[39;49m\u001B[43mconnect\u001B[49m\u001B[43m(\u001B[49m\u001B[43msa\u001B[49m\u001B[43m)\u001B[49m\n\u001B[1;32m     74\u001B[0m \u001B[38;5;66;03m# Break explicitly a reference cycle\u001B[39;00m\n",
      "\u001B[0;31mConnectionRefusedError\u001B[0m: [Errno 111] Connection refused",
      "\nThe above exception was the direct cause of the following exception:\n",
      "\u001B[0;31mNewConnectionError\u001B[0m                        Traceback (most recent call last)",
      "File \u001B[0;32m~/PycharmProjects/parsing/.venv/lib/python3.10/site-packages/urllib3/connectionpool.py:790\u001B[0m, in \u001B[0;36mHTTPConnectionPool.urlopen\u001B[0;34m(self, method, url, body, headers, retries, redirect, assert_same_host, timeout, pool_timeout, release_conn, chunked, body_pos, preload_content, decode_content, **response_kw)\u001B[0m\n\u001B[1;32m    789\u001B[0m \u001B[38;5;66;03m# Make the request on the HTTPConnection object\u001B[39;00m\n\u001B[0;32m--> 790\u001B[0m response \u001B[38;5;241m=\u001B[39m \u001B[38;5;28;43mself\u001B[39;49m\u001B[38;5;241;43m.\u001B[39;49m\u001B[43m_make_request\u001B[49m\u001B[43m(\u001B[49m\n\u001B[1;32m    791\u001B[0m \u001B[43m    \u001B[49m\u001B[43mconn\u001B[49m\u001B[43m,\u001B[49m\n\u001B[1;32m    792\u001B[0m \u001B[43m    \u001B[49m\u001B[43mmethod\u001B[49m\u001B[43m,\u001B[49m\n\u001B[1;32m    793\u001B[0m \u001B[43m    \u001B[49m\u001B[43murl\u001B[49m\u001B[43m,\u001B[49m\n\u001B[1;32m    794\u001B[0m \u001B[43m    \u001B[49m\u001B[43mtimeout\u001B[49m\u001B[38;5;241;43m=\u001B[39;49m\u001B[43mtimeout_obj\u001B[49m\u001B[43m,\u001B[49m\n\u001B[1;32m    795\u001B[0m \u001B[43m    \u001B[49m\u001B[43mbody\u001B[49m\u001B[38;5;241;43m=\u001B[39;49m\u001B[43mbody\u001B[49m\u001B[43m,\u001B[49m\n\u001B[1;32m    796\u001B[0m \u001B[43m    \u001B[49m\u001B[43mheaders\u001B[49m\u001B[38;5;241;43m=\u001B[39;49m\u001B[43mheaders\u001B[49m\u001B[43m,\u001B[49m\n\u001B[1;32m    797\u001B[0m \u001B[43m    \u001B[49m\u001B[43mchunked\u001B[49m\u001B[38;5;241;43m=\u001B[39;49m\u001B[43mchunked\u001B[49m\u001B[43m,\u001B[49m\n\u001B[1;32m    798\u001B[0m \u001B[43m    \u001B[49m\u001B[43mretries\u001B[49m\u001B[38;5;241;43m=\u001B[39;49m\u001B[43mretries\u001B[49m\u001B[43m,\u001B[49m\n\u001B[1;32m    799\u001B[0m \u001B[43m    \u001B[49m\u001B[43mresponse_conn\u001B[49m\u001B[38;5;241;43m=\u001B[39;49m\u001B[43mresponse_conn\u001B[49m\u001B[43m,\u001B[49m\n\u001B[1;32m    800\u001B[0m \u001B[43m    \u001B[49m\u001B[43mpreload_content\u001B[49m\u001B[38;5;241;43m=\u001B[39;49m\u001B[43mpreload_content\u001B[49m\u001B[43m,\u001B[49m\n\u001B[1;32m    801\u001B[0m \u001B[43m    \u001B[49m\u001B[43mdecode_content\u001B[49m\u001B[38;5;241;43m=\u001B[39;49m\u001B[43mdecode_content\u001B[49m\u001B[43m,\u001B[49m\n\u001B[1;32m    802\u001B[0m \u001B[43m    \u001B[49m\u001B[38;5;241;43m*\u001B[39;49m\u001B[38;5;241;43m*\u001B[39;49m\u001B[43mresponse_kw\u001B[49m\u001B[43m,\u001B[49m\n\u001B[1;32m    803\u001B[0m \u001B[43m\u001B[49m\u001B[43m)\u001B[49m\n\u001B[1;32m    805\u001B[0m \u001B[38;5;66;03m# Everything went great!\u001B[39;00m\n",
      "File \u001B[0;32m~/PycharmProjects/parsing/.venv/lib/python3.10/site-packages/urllib3/connectionpool.py:496\u001B[0m, in \u001B[0;36mHTTPConnectionPool._make_request\u001B[0;34m(self, conn, method, url, body, headers, retries, timeout, chunked, response_conn, preload_content, decode_content, enforce_content_length)\u001B[0m\n\u001B[1;32m    495\u001B[0m \u001B[38;5;28;01mtry\u001B[39;00m:\n\u001B[0;32m--> 496\u001B[0m     \u001B[43mconn\u001B[49m\u001B[38;5;241;43m.\u001B[39;49m\u001B[43mrequest\u001B[49m\u001B[43m(\u001B[49m\n\u001B[1;32m    497\u001B[0m \u001B[43m        \u001B[49m\u001B[43mmethod\u001B[49m\u001B[43m,\u001B[49m\n\u001B[1;32m    498\u001B[0m \u001B[43m        \u001B[49m\u001B[43murl\u001B[49m\u001B[43m,\u001B[49m\n\u001B[1;32m    499\u001B[0m \u001B[43m        \u001B[49m\u001B[43mbody\u001B[49m\u001B[38;5;241;43m=\u001B[39;49m\u001B[43mbody\u001B[49m\u001B[43m,\u001B[49m\n\u001B[1;32m    500\u001B[0m \u001B[43m        \u001B[49m\u001B[43mheaders\u001B[49m\u001B[38;5;241;43m=\u001B[39;49m\u001B[43mheaders\u001B[49m\u001B[43m,\u001B[49m\n\u001B[1;32m    501\u001B[0m \u001B[43m        \u001B[49m\u001B[43mchunked\u001B[49m\u001B[38;5;241;43m=\u001B[39;49m\u001B[43mchunked\u001B[49m\u001B[43m,\u001B[49m\n\u001B[1;32m    502\u001B[0m \u001B[43m        \u001B[49m\u001B[43mpreload_content\u001B[49m\u001B[38;5;241;43m=\u001B[39;49m\u001B[43mpreload_content\u001B[49m\u001B[43m,\u001B[49m\n\u001B[1;32m    503\u001B[0m \u001B[43m        \u001B[49m\u001B[43mdecode_content\u001B[49m\u001B[38;5;241;43m=\u001B[39;49m\u001B[43mdecode_content\u001B[49m\u001B[43m,\u001B[49m\n\u001B[1;32m    504\u001B[0m \u001B[43m        \u001B[49m\u001B[43menforce_content_length\u001B[49m\u001B[38;5;241;43m=\u001B[39;49m\u001B[43menforce_content_length\u001B[49m\u001B[43m,\u001B[49m\n\u001B[1;32m    505\u001B[0m \u001B[43m    \u001B[49m\u001B[43m)\u001B[49m\n\u001B[1;32m    507\u001B[0m \u001B[38;5;66;03m# We are swallowing BrokenPipeError (errno.EPIPE) since the server is\u001B[39;00m\n\u001B[1;32m    508\u001B[0m \u001B[38;5;66;03m# legitimately able to close the connection after sending a valid response.\u001B[39;00m\n\u001B[1;32m    509\u001B[0m \u001B[38;5;66;03m# With this behaviour, the received response is still readable.\u001B[39;00m\n",
      "File \u001B[0;32m~/PycharmProjects/parsing/.venv/lib/python3.10/site-packages/urllib3/connection.py:388\u001B[0m, in \u001B[0;36mHTTPConnection.request\u001B[0;34m(self, method, url, body, headers, chunked, preload_content, decode_content, enforce_content_length)\u001B[0m\n\u001B[1;32m    387\u001B[0m     \u001B[38;5;28mself\u001B[39m\u001B[38;5;241m.\u001B[39mputheader(header, value)\n\u001B[0;32m--> 388\u001B[0m \u001B[38;5;28;43mself\u001B[39;49m\u001B[38;5;241;43m.\u001B[39;49m\u001B[43mendheaders\u001B[49m\u001B[43m(\u001B[49m\u001B[43m)\u001B[49m\n\u001B[1;32m    390\u001B[0m \u001B[38;5;66;03m# If we're given a body we start sending that in chunks.\u001B[39;00m\n",
      "File \u001B[0;32m/usr/lib/python3.10/http/client.py:1277\u001B[0m, in \u001B[0;36mHTTPConnection.endheaders\u001B[0;34m(self, message_body, encode_chunked)\u001B[0m\n\u001B[1;32m   1276\u001B[0m     \u001B[38;5;28;01mraise\u001B[39;00m CannotSendHeader()\n\u001B[0;32m-> 1277\u001B[0m \u001B[38;5;28;43mself\u001B[39;49m\u001B[38;5;241;43m.\u001B[39;49m\u001B[43m_send_output\u001B[49m\u001B[43m(\u001B[49m\u001B[43mmessage_body\u001B[49m\u001B[43m,\u001B[49m\u001B[43m \u001B[49m\u001B[43mencode_chunked\u001B[49m\u001B[38;5;241;43m=\u001B[39;49m\u001B[43mencode_chunked\u001B[49m\u001B[43m)\u001B[49m\n",
      "File \u001B[0;32m/usr/lib/python3.10/http/client.py:1037\u001B[0m, in \u001B[0;36mHTTPConnection._send_output\u001B[0;34m(self, message_body, encode_chunked)\u001B[0m\n\u001B[1;32m   1036\u001B[0m \u001B[38;5;28;01mdel\u001B[39;00m \u001B[38;5;28mself\u001B[39m\u001B[38;5;241m.\u001B[39m_buffer[:]\n\u001B[0;32m-> 1037\u001B[0m \u001B[38;5;28;43mself\u001B[39;49m\u001B[38;5;241;43m.\u001B[39;49m\u001B[43msend\u001B[49m\u001B[43m(\u001B[49m\u001B[43mmsg\u001B[49m\u001B[43m)\u001B[49m\n\u001B[1;32m   1039\u001B[0m \u001B[38;5;28;01mif\u001B[39;00m message_body \u001B[38;5;129;01mis\u001B[39;00m \u001B[38;5;129;01mnot\u001B[39;00m \u001B[38;5;28;01mNone\u001B[39;00m:\n\u001B[1;32m   1040\u001B[0m \n\u001B[1;32m   1041\u001B[0m     \u001B[38;5;66;03m# create a consistent interface to message_body\u001B[39;00m\n",
      "File \u001B[0;32m/usr/lib/python3.10/http/client.py:975\u001B[0m, in \u001B[0;36mHTTPConnection.send\u001B[0;34m(self, data)\u001B[0m\n\u001B[1;32m    974\u001B[0m \u001B[38;5;28;01mif\u001B[39;00m \u001B[38;5;28mself\u001B[39m\u001B[38;5;241m.\u001B[39mauto_open:\n\u001B[0;32m--> 975\u001B[0m     \u001B[38;5;28;43mself\u001B[39;49m\u001B[38;5;241;43m.\u001B[39;49m\u001B[43mconnect\u001B[49m\u001B[43m(\u001B[49m\u001B[43m)\u001B[49m\n\u001B[1;32m    976\u001B[0m \u001B[38;5;28;01melse\u001B[39;00m:\n",
      "File \u001B[0;32m~/PycharmProjects/parsing/.venv/lib/python3.10/site-packages/urllib3/connection.py:236\u001B[0m, in \u001B[0;36mHTTPConnection.connect\u001B[0;34m(self)\u001B[0m\n\u001B[1;32m    235\u001B[0m \u001B[38;5;28;01mdef\u001B[39;00m \u001B[38;5;21mconnect\u001B[39m(\u001B[38;5;28mself\u001B[39m) \u001B[38;5;241m-\u001B[39m\u001B[38;5;241m>\u001B[39m \u001B[38;5;28;01mNone\u001B[39;00m:\n\u001B[0;32m--> 236\u001B[0m     \u001B[38;5;28mself\u001B[39m\u001B[38;5;241m.\u001B[39msock \u001B[38;5;241m=\u001B[39m \u001B[38;5;28;43mself\u001B[39;49m\u001B[38;5;241;43m.\u001B[39;49m\u001B[43m_new_conn\u001B[49m\u001B[43m(\u001B[49m\u001B[43m)\u001B[49m\n\u001B[1;32m    237\u001B[0m     \u001B[38;5;28;01mif\u001B[39;00m \u001B[38;5;28mself\u001B[39m\u001B[38;5;241m.\u001B[39m_tunnel_host:\n\u001B[1;32m    238\u001B[0m         \u001B[38;5;66;03m# If we're tunneling it means we're connected to our proxy.\u001B[39;00m\n",
      "File \u001B[0;32m~/PycharmProjects/parsing/.venv/lib/python3.10/site-packages/urllib3/connection.py:215\u001B[0m, in \u001B[0;36mHTTPConnection._new_conn\u001B[0;34m(self)\u001B[0m\n\u001B[1;32m    214\u001B[0m \u001B[38;5;28;01mexcept\u001B[39;00m \u001B[38;5;167;01mOSError\u001B[39;00m \u001B[38;5;28;01mas\u001B[39;00m e:\n\u001B[0;32m--> 215\u001B[0m     \u001B[38;5;28;01mraise\u001B[39;00m NewConnectionError(\n\u001B[1;32m    216\u001B[0m         \u001B[38;5;28mself\u001B[39m, \u001B[38;5;124mf\u001B[39m\u001B[38;5;124m\"\u001B[39m\u001B[38;5;124mFailed to establish a new connection: \u001B[39m\u001B[38;5;132;01m{\u001B[39;00me\u001B[38;5;132;01m}\u001B[39;00m\u001B[38;5;124m\"\u001B[39m\n\u001B[1;32m    217\u001B[0m     ) \u001B[38;5;28;01mfrom\u001B[39;00m \u001B[38;5;21;01me\u001B[39;00m\n\u001B[1;32m    219\u001B[0m \u001B[38;5;28;01mreturn\u001B[39;00m sock\n",
      "\u001B[0;31mNewConnectionError\u001B[0m: <urllib3.connection.HTTPConnection object at 0x7f4abe088b20>: Failed to establish a new connection: [Errno 111] Connection refused",
      "\nThe above exception was the direct cause of the following exception:\n",
      "\u001B[0;31mMaxRetryError\u001B[0m                             Traceback (most recent call last)",
      "Cell \u001B[0;32mIn[30], line 16\u001B[0m\n\u001B[1;32m     14\u001B[0m time\u001B[38;5;241m.\u001B[39msleep(\u001B[38;5;241m2\u001B[39m)\n\u001B[1;32m     15\u001B[0m \u001B[38;5;66;03m# Извлечение данных объявлений\u001B[39;00m\n\u001B[0;32m---> 16\u001B[0m ads \u001B[38;5;241m=\u001B[39m \u001B[43mdriver\u001B[49m\u001B[38;5;241;43m.\u001B[39;49m\u001B[43mfind_elements\u001B[49m\u001B[43m(\u001B[49m\u001B[43mBy\u001B[49m\u001B[38;5;241;43m.\u001B[39;49m\u001B[43mXPATH\u001B[49m\u001B[43m,\u001B[49m\u001B[43m \u001B[49m\u001B[38;5;124;43m\"\u001B[39;49m\u001B[38;5;124;43m.//article[@data-name=\u001B[39;49m\u001B[38;5;124;43m'\u001B[39;49m\u001B[38;5;124;43mCardComponent\u001B[39;49m\u001B[38;5;124;43m'\u001B[39;49m\u001B[38;5;124;43m]\u001B[39;49m\u001B[38;5;124;43m\"\u001B[39;49m\u001B[43m)\u001B[49m\n\u001B[1;32m     18\u001B[0m \u001B[38;5;28;01mfor\u001B[39;00m ad \u001B[38;5;129;01min\u001B[39;00m ads:\n\u001B[1;32m     19\u001B[0m     title \u001B[38;5;241m=\u001B[39m ad\u001B[38;5;241m.\u001B[39mfind_element(By\u001B[38;5;241m.\u001B[39mXPATH, \u001B[38;5;124m\"\u001B[39m\u001B[38;5;124m.//span[@data-mark=\u001B[39m\u001B[38;5;124m'\u001B[39m\u001B[38;5;124mOfferTitle\u001B[39m\u001B[38;5;124m'\u001B[39m\u001B[38;5;124m]\u001B[39m\u001B[38;5;124m\"\u001B[39m)\u001B[38;5;241m.\u001B[39mtext\n",
      "File \u001B[0;32m~/PycharmProjects/parsing/.venv/lib/python3.10/site-packages/selenium/webdriver/remote/webdriver.py:861\u001B[0m, in \u001B[0;36mWebDriver.find_elements\u001B[0;34m(self, by, value)\u001B[0m\n\u001B[1;32m    857\u001B[0m     value \u001B[38;5;241m=\u001B[39m \u001B[38;5;124mf\u001B[39m\u001B[38;5;124m'\u001B[39m\u001B[38;5;124m[name=\u001B[39m\u001B[38;5;124m\"\u001B[39m\u001B[38;5;132;01m{\u001B[39;00mvalue\u001B[38;5;132;01m}\u001B[39;00m\u001B[38;5;124m\"\u001B[39m\u001B[38;5;124m]\u001B[39m\u001B[38;5;124m'\u001B[39m\n\u001B[1;32m    859\u001B[0m \u001B[38;5;66;03m# Return empty list if driver returns null\u001B[39;00m\n\u001B[1;32m    860\u001B[0m \u001B[38;5;66;03m# See https://github.com/SeleniumHQ/selenium/issues/4555\u001B[39;00m\n\u001B[0;32m--> 861\u001B[0m \u001B[38;5;28;01mreturn\u001B[39;00m \u001B[38;5;28;43mself\u001B[39;49m\u001B[38;5;241;43m.\u001B[39;49m\u001B[43mexecute\u001B[49m\u001B[43m(\u001B[49m\u001B[43mCommand\u001B[49m\u001B[38;5;241;43m.\u001B[39;49m\u001B[43mFIND_ELEMENTS\u001B[49m\u001B[43m,\u001B[49m\u001B[43m \u001B[49m\u001B[43m{\u001B[49m\u001B[38;5;124;43m\"\u001B[39;49m\u001B[38;5;124;43musing\u001B[39;49m\u001B[38;5;124;43m\"\u001B[39;49m\u001B[43m:\u001B[49m\u001B[43m \u001B[49m\u001B[43mby\u001B[49m\u001B[43m,\u001B[49m\u001B[43m \u001B[49m\u001B[38;5;124;43m\"\u001B[39;49m\u001B[38;5;124;43mvalue\u001B[39;49m\u001B[38;5;124;43m\"\u001B[39;49m\u001B[43m:\u001B[49m\u001B[43m \u001B[49m\u001B[43mvalue\u001B[49m\u001B[43m}\u001B[49m\u001B[43m)\u001B[49m[\u001B[38;5;124m\"\u001B[39m\u001B[38;5;124mvalue\u001B[39m\u001B[38;5;124m\"\u001B[39m] \u001B[38;5;129;01mor\u001B[39;00m []\n",
      "File \u001B[0;32m~/PycharmProjects/parsing/.venv/lib/python3.10/site-packages/selenium/webdriver/remote/webdriver.py:438\u001B[0m, in \u001B[0;36mWebDriver.execute\u001B[0;34m(self, driver_command, params)\u001B[0m\n\u001B[1;32m    435\u001B[0m     \u001B[38;5;28;01melif\u001B[39;00m \u001B[38;5;124m\"\u001B[39m\u001B[38;5;124msessionId\u001B[39m\u001B[38;5;124m\"\u001B[39m \u001B[38;5;129;01mnot\u001B[39;00m \u001B[38;5;129;01min\u001B[39;00m params:\n\u001B[1;32m    436\u001B[0m         params[\u001B[38;5;124m\"\u001B[39m\u001B[38;5;124msessionId\u001B[39m\u001B[38;5;124m\"\u001B[39m] \u001B[38;5;241m=\u001B[39m \u001B[38;5;28mself\u001B[39m\u001B[38;5;241m.\u001B[39msession_id\n\u001B[0;32m--> 438\u001B[0m response \u001B[38;5;241m=\u001B[39m \u001B[38;5;28;43mself\u001B[39;49m\u001B[38;5;241;43m.\u001B[39;49m\u001B[43mcommand_executor\u001B[49m\u001B[38;5;241;43m.\u001B[39;49m\u001B[43mexecute\u001B[49m\u001B[43m(\u001B[49m\u001B[43mdriver_command\u001B[49m\u001B[43m,\u001B[49m\u001B[43m \u001B[49m\u001B[43mparams\u001B[49m\u001B[43m)\u001B[49m\n\u001B[1;32m    439\u001B[0m \u001B[38;5;28;01mif\u001B[39;00m response:\n\u001B[1;32m    440\u001B[0m     \u001B[38;5;28mself\u001B[39m\u001B[38;5;241m.\u001B[39merror_handler\u001B[38;5;241m.\u001B[39mcheck_response(response)\n",
      "File \u001B[0;32m~/PycharmProjects/parsing/.venv/lib/python3.10/site-packages/selenium/webdriver/remote/remote_connection.py:290\u001B[0m, in \u001B[0;36mRemoteConnection.execute\u001B[0;34m(self, command, params)\u001B[0m\n\u001B[1;32m    288\u001B[0m data \u001B[38;5;241m=\u001B[39m utils\u001B[38;5;241m.\u001B[39mdump_json(params)\n\u001B[1;32m    289\u001B[0m url \u001B[38;5;241m=\u001B[39m \u001B[38;5;124mf\u001B[39m\u001B[38;5;124m\"\u001B[39m\u001B[38;5;132;01m{\u001B[39;00m\u001B[38;5;28mself\u001B[39m\u001B[38;5;241m.\u001B[39m_url\u001B[38;5;132;01m}\u001B[39;00m\u001B[38;5;132;01m{\u001B[39;00mpath\u001B[38;5;132;01m}\u001B[39;00m\u001B[38;5;124m\"\u001B[39m\n\u001B[0;32m--> 290\u001B[0m \u001B[38;5;28;01mreturn\u001B[39;00m \u001B[38;5;28;43mself\u001B[39;49m\u001B[38;5;241;43m.\u001B[39;49m\u001B[43m_request\u001B[49m\u001B[43m(\u001B[49m\u001B[43mcommand_info\u001B[49m\u001B[43m[\u001B[49m\u001B[38;5;241;43m0\u001B[39;49m\u001B[43m]\u001B[49m\u001B[43m,\u001B[49m\u001B[43m \u001B[49m\u001B[43murl\u001B[49m\u001B[43m,\u001B[49m\u001B[43m \u001B[49m\u001B[43mbody\u001B[49m\u001B[38;5;241;43m=\u001B[39;49m\u001B[43mdata\u001B[49m\u001B[43m)\u001B[49m\n",
      "File \u001B[0;32m~/PycharmProjects/parsing/.venv/lib/python3.10/site-packages/selenium/webdriver/remote/remote_connection.py:311\u001B[0m, in \u001B[0;36mRemoteConnection._request\u001B[0;34m(self, method, url, body)\u001B[0m\n\u001B[1;32m    308\u001B[0m     body \u001B[38;5;241m=\u001B[39m \u001B[38;5;28;01mNone\u001B[39;00m\n\u001B[1;32m    310\u001B[0m \u001B[38;5;28;01mif\u001B[39;00m \u001B[38;5;28mself\u001B[39m\u001B[38;5;241m.\u001B[39mkeep_alive:\n\u001B[0;32m--> 311\u001B[0m     response \u001B[38;5;241m=\u001B[39m \u001B[38;5;28;43mself\u001B[39;49m\u001B[38;5;241;43m.\u001B[39;49m\u001B[43m_conn\u001B[49m\u001B[38;5;241;43m.\u001B[39;49m\u001B[43mrequest\u001B[49m\u001B[43m(\u001B[49m\u001B[43mmethod\u001B[49m\u001B[43m,\u001B[49m\u001B[43m \u001B[49m\u001B[43murl\u001B[49m\u001B[43m,\u001B[49m\u001B[43m \u001B[49m\u001B[43mbody\u001B[49m\u001B[38;5;241;43m=\u001B[39;49m\u001B[43mbody\u001B[49m\u001B[43m,\u001B[49m\u001B[43m \u001B[49m\u001B[43mheaders\u001B[49m\u001B[38;5;241;43m=\u001B[39;49m\u001B[43mheaders\u001B[49m\u001B[43m)\u001B[49m\n\u001B[1;32m    312\u001B[0m     statuscode \u001B[38;5;241m=\u001B[39m response\u001B[38;5;241m.\u001B[39mstatus\n\u001B[1;32m    313\u001B[0m \u001B[38;5;28;01melse\u001B[39;00m:\n",
      "File \u001B[0;32m~/PycharmProjects/parsing/.venv/lib/python3.10/site-packages/urllib3/_request_methods.py:118\u001B[0m, in \u001B[0;36mRequestMethods.request\u001B[0;34m(self, method, url, body, fields, headers, json, **urlopen_kw)\u001B[0m\n\u001B[1;32m    110\u001B[0m     \u001B[38;5;28;01mreturn\u001B[39;00m \u001B[38;5;28mself\u001B[39m\u001B[38;5;241m.\u001B[39mrequest_encode_url(\n\u001B[1;32m    111\u001B[0m         method,\n\u001B[1;32m    112\u001B[0m         url,\n\u001B[0;32m   (...)\u001B[0m\n\u001B[1;32m    115\u001B[0m         \u001B[38;5;241m*\u001B[39m\u001B[38;5;241m*\u001B[39murlopen_kw,\n\u001B[1;32m    116\u001B[0m     )\n\u001B[1;32m    117\u001B[0m \u001B[38;5;28;01melse\u001B[39;00m:\n\u001B[0;32m--> 118\u001B[0m     \u001B[38;5;28;01mreturn\u001B[39;00m \u001B[38;5;28;43mself\u001B[39;49m\u001B[38;5;241;43m.\u001B[39;49m\u001B[43mrequest_encode_body\u001B[49m\u001B[43m(\u001B[49m\n\u001B[1;32m    119\u001B[0m \u001B[43m        \u001B[49m\u001B[43mmethod\u001B[49m\u001B[43m,\u001B[49m\u001B[43m \u001B[49m\u001B[43murl\u001B[49m\u001B[43m,\u001B[49m\u001B[43m \u001B[49m\u001B[43mfields\u001B[49m\u001B[38;5;241;43m=\u001B[39;49m\u001B[43mfields\u001B[49m\u001B[43m,\u001B[49m\u001B[43m \u001B[49m\u001B[43mheaders\u001B[49m\u001B[38;5;241;43m=\u001B[39;49m\u001B[43mheaders\u001B[49m\u001B[43m,\u001B[49m\u001B[43m \u001B[49m\u001B[38;5;241;43m*\u001B[39;49m\u001B[38;5;241;43m*\u001B[39;49m\u001B[43murlopen_kw\u001B[49m\n\u001B[1;32m    120\u001B[0m \u001B[43m    \u001B[49m\u001B[43m)\u001B[49m\n",
      "File \u001B[0;32m~/PycharmProjects/parsing/.venv/lib/python3.10/site-packages/urllib3/_request_methods.py:217\u001B[0m, in \u001B[0;36mRequestMethods.request_encode_body\u001B[0;34m(self, method, url, fields, headers, encode_multipart, multipart_boundary, **urlopen_kw)\u001B[0m\n\u001B[1;32m    213\u001B[0m     extra_kw[\u001B[38;5;124m\"\u001B[39m\u001B[38;5;124mheaders\u001B[39m\u001B[38;5;124m\"\u001B[39m]\u001B[38;5;241m.\u001B[39msetdefault(\u001B[38;5;124m\"\u001B[39m\u001B[38;5;124mContent-Type\u001B[39m\u001B[38;5;124m\"\u001B[39m, content_type)\n\u001B[1;32m    215\u001B[0m extra_kw\u001B[38;5;241m.\u001B[39mupdate(urlopen_kw)\n\u001B[0;32m--> 217\u001B[0m \u001B[38;5;28;01mreturn\u001B[39;00m \u001B[38;5;28;43mself\u001B[39;49m\u001B[38;5;241;43m.\u001B[39;49m\u001B[43murlopen\u001B[49m\u001B[43m(\u001B[49m\u001B[43mmethod\u001B[49m\u001B[43m,\u001B[49m\u001B[43m \u001B[49m\u001B[43murl\u001B[49m\u001B[43m,\u001B[49m\u001B[43m \u001B[49m\u001B[38;5;241;43m*\u001B[39;49m\u001B[38;5;241;43m*\u001B[39;49m\u001B[43mextra_kw\u001B[49m\u001B[43m)\u001B[49m\n",
      "File \u001B[0;32m~/PycharmProjects/parsing/.venv/lib/python3.10/site-packages/urllib3/poolmanager.py:433\u001B[0m, in \u001B[0;36mPoolManager.urlopen\u001B[0;34m(self, method, url, redirect, **kw)\u001B[0m\n\u001B[1;32m    431\u001B[0m     response \u001B[38;5;241m=\u001B[39m conn\u001B[38;5;241m.\u001B[39murlopen(method, url, \u001B[38;5;241m*\u001B[39m\u001B[38;5;241m*\u001B[39mkw)\n\u001B[1;32m    432\u001B[0m \u001B[38;5;28;01melse\u001B[39;00m:\n\u001B[0;32m--> 433\u001B[0m     response \u001B[38;5;241m=\u001B[39m \u001B[43mconn\u001B[49m\u001B[38;5;241;43m.\u001B[39;49m\u001B[43murlopen\u001B[49m\u001B[43m(\u001B[49m\u001B[43mmethod\u001B[49m\u001B[43m,\u001B[49m\u001B[43m \u001B[49m\u001B[43mu\u001B[49m\u001B[38;5;241;43m.\u001B[39;49m\u001B[43mrequest_uri\u001B[49m\u001B[43m,\u001B[49m\u001B[43m \u001B[49m\u001B[38;5;241;43m*\u001B[39;49m\u001B[38;5;241;43m*\u001B[39;49m\u001B[43mkw\u001B[49m\u001B[43m)\u001B[49m\n\u001B[1;32m    435\u001B[0m redirect_location \u001B[38;5;241m=\u001B[39m redirect \u001B[38;5;129;01mand\u001B[39;00m response\u001B[38;5;241m.\u001B[39mget_redirect_location()\n\u001B[1;32m    436\u001B[0m \u001B[38;5;28;01mif\u001B[39;00m \u001B[38;5;129;01mnot\u001B[39;00m redirect_location:\n",
      "File \u001B[0;32m~/PycharmProjects/parsing/.venv/lib/python3.10/site-packages/urllib3/connectionpool.py:874\u001B[0m, in \u001B[0;36mHTTPConnectionPool.urlopen\u001B[0;34m(self, method, url, body, headers, retries, redirect, assert_same_host, timeout, pool_timeout, release_conn, chunked, body_pos, preload_content, decode_content, **response_kw)\u001B[0m\n\u001B[1;32m    869\u001B[0m \u001B[38;5;28;01mif\u001B[39;00m \u001B[38;5;129;01mnot\u001B[39;00m conn:\n\u001B[1;32m    870\u001B[0m     \u001B[38;5;66;03m# Try again\u001B[39;00m\n\u001B[1;32m    871\u001B[0m     log\u001B[38;5;241m.\u001B[39mwarning(\n\u001B[1;32m    872\u001B[0m         \u001B[38;5;124m\"\u001B[39m\u001B[38;5;124mRetrying (\u001B[39m\u001B[38;5;132;01m%r\u001B[39;00m\u001B[38;5;124m) after connection broken by \u001B[39m\u001B[38;5;124m'\u001B[39m\u001B[38;5;132;01m%r\u001B[39;00m\u001B[38;5;124m'\u001B[39m\u001B[38;5;124m: \u001B[39m\u001B[38;5;132;01m%s\u001B[39;00m\u001B[38;5;124m\"\u001B[39m, retries, err, url\n\u001B[1;32m    873\u001B[0m     )\n\u001B[0;32m--> 874\u001B[0m     \u001B[38;5;28;01mreturn\u001B[39;00m \u001B[38;5;28;43mself\u001B[39;49m\u001B[38;5;241;43m.\u001B[39;49m\u001B[43murlopen\u001B[49m\u001B[43m(\u001B[49m\n\u001B[1;32m    875\u001B[0m \u001B[43m        \u001B[49m\u001B[43mmethod\u001B[49m\u001B[43m,\u001B[49m\n\u001B[1;32m    876\u001B[0m \u001B[43m        \u001B[49m\u001B[43murl\u001B[49m\u001B[43m,\u001B[49m\n\u001B[1;32m    877\u001B[0m \u001B[43m        \u001B[49m\u001B[43mbody\u001B[49m\u001B[43m,\u001B[49m\n\u001B[1;32m    878\u001B[0m \u001B[43m        \u001B[49m\u001B[43mheaders\u001B[49m\u001B[43m,\u001B[49m\n\u001B[1;32m    879\u001B[0m \u001B[43m        \u001B[49m\u001B[43mretries\u001B[49m\u001B[43m,\u001B[49m\n\u001B[1;32m    880\u001B[0m \u001B[43m        \u001B[49m\u001B[43mredirect\u001B[49m\u001B[43m,\u001B[49m\n\u001B[1;32m    881\u001B[0m \u001B[43m        \u001B[49m\u001B[43massert_same_host\u001B[49m\u001B[43m,\u001B[49m\n\u001B[1;32m    882\u001B[0m \u001B[43m        \u001B[49m\u001B[43mtimeout\u001B[49m\u001B[38;5;241;43m=\u001B[39;49m\u001B[43mtimeout\u001B[49m\u001B[43m,\u001B[49m\n\u001B[1;32m    883\u001B[0m \u001B[43m        \u001B[49m\u001B[43mpool_timeout\u001B[49m\u001B[38;5;241;43m=\u001B[39;49m\u001B[43mpool_timeout\u001B[49m\u001B[43m,\u001B[49m\n\u001B[1;32m    884\u001B[0m \u001B[43m        \u001B[49m\u001B[43mrelease_conn\u001B[49m\u001B[38;5;241;43m=\u001B[39;49m\u001B[43mrelease_conn\u001B[49m\u001B[43m,\u001B[49m\n\u001B[1;32m    885\u001B[0m \u001B[43m        \u001B[49m\u001B[43mchunked\u001B[49m\u001B[38;5;241;43m=\u001B[39;49m\u001B[43mchunked\u001B[49m\u001B[43m,\u001B[49m\n\u001B[1;32m    886\u001B[0m \u001B[43m        \u001B[49m\u001B[43mbody_pos\u001B[49m\u001B[38;5;241;43m=\u001B[39;49m\u001B[43mbody_pos\u001B[49m\u001B[43m,\u001B[49m\n\u001B[1;32m    887\u001B[0m \u001B[43m        \u001B[49m\u001B[43mpreload_content\u001B[49m\u001B[38;5;241;43m=\u001B[39;49m\u001B[43mpreload_content\u001B[49m\u001B[43m,\u001B[49m\n\u001B[1;32m    888\u001B[0m \u001B[43m        \u001B[49m\u001B[43mdecode_content\u001B[49m\u001B[38;5;241;43m=\u001B[39;49m\u001B[43mdecode_content\u001B[49m\u001B[43m,\u001B[49m\n\u001B[1;32m    889\u001B[0m \u001B[43m        \u001B[49m\u001B[38;5;241;43m*\u001B[39;49m\u001B[38;5;241;43m*\u001B[39;49m\u001B[43mresponse_kw\u001B[49m\u001B[43m,\u001B[49m\n\u001B[1;32m    890\u001B[0m \u001B[43m    \u001B[49m\u001B[43m)\u001B[49m\n\u001B[1;32m    892\u001B[0m \u001B[38;5;66;03m# Handle redirect?\u001B[39;00m\n\u001B[1;32m    893\u001B[0m redirect_location \u001B[38;5;241m=\u001B[39m redirect \u001B[38;5;129;01mand\u001B[39;00m response\u001B[38;5;241m.\u001B[39mget_redirect_location()\n",
      "File \u001B[0;32m~/PycharmProjects/parsing/.venv/lib/python3.10/site-packages/urllib3/connectionpool.py:874\u001B[0m, in \u001B[0;36mHTTPConnectionPool.urlopen\u001B[0;34m(self, method, url, body, headers, retries, redirect, assert_same_host, timeout, pool_timeout, release_conn, chunked, body_pos, preload_content, decode_content, **response_kw)\u001B[0m\n\u001B[1;32m    869\u001B[0m \u001B[38;5;28;01mif\u001B[39;00m \u001B[38;5;129;01mnot\u001B[39;00m conn:\n\u001B[1;32m    870\u001B[0m     \u001B[38;5;66;03m# Try again\u001B[39;00m\n\u001B[1;32m    871\u001B[0m     log\u001B[38;5;241m.\u001B[39mwarning(\n\u001B[1;32m    872\u001B[0m         \u001B[38;5;124m\"\u001B[39m\u001B[38;5;124mRetrying (\u001B[39m\u001B[38;5;132;01m%r\u001B[39;00m\u001B[38;5;124m) after connection broken by \u001B[39m\u001B[38;5;124m'\u001B[39m\u001B[38;5;132;01m%r\u001B[39;00m\u001B[38;5;124m'\u001B[39m\u001B[38;5;124m: \u001B[39m\u001B[38;5;132;01m%s\u001B[39;00m\u001B[38;5;124m\"\u001B[39m, retries, err, url\n\u001B[1;32m    873\u001B[0m     )\n\u001B[0;32m--> 874\u001B[0m     \u001B[38;5;28;01mreturn\u001B[39;00m \u001B[38;5;28;43mself\u001B[39;49m\u001B[38;5;241;43m.\u001B[39;49m\u001B[43murlopen\u001B[49m\u001B[43m(\u001B[49m\n\u001B[1;32m    875\u001B[0m \u001B[43m        \u001B[49m\u001B[43mmethod\u001B[49m\u001B[43m,\u001B[49m\n\u001B[1;32m    876\u001B[0m \u001B[43m        \u001B[49m\u001B[43murl\u001B[49m\u001B[43m,\u001B[49m\n\u001B[1;32m    877\u001B[0m \u001B[43m        \u001B[49m\u001B[43mbody\u001B[49m\u001B[43m,\u001B[49m\n\u001B[1;32m    878\u001B[0m \u001B[43m        \u001B[49m\u001B[43mheaders\u001B[49m\u001B[43m,\u001B[49m\n\u001B[1;32m    879\u001B[0m \u001B[43m        \u001B[49m\u001B[43mretries\u001B[49m\u001B[43m,\u001B[49m\n\u001B[1;32m    880\u001B[0m \u001B[43m        \u001B[49m\u001B[43mredirect\u001B[49m\u001B[43m,\u001B[49m\n\u001B[1;32m    881\u001B[0m \u001B[43m        \u001B[49m\u001B[43massert_same_host\u001B[49m\u001B[43m,\u001B[49m\n\u001B[1;32m    882\u001B[0m \u001B[43m        \u001B[49m\u001B[43mtimeout\u001B[49m\u001B[38;5;241;43m=\u001B[39;49m\u001B[43mtimeout\u001B[49m\u001B[43m,\u001B[49m\n\u001B[1;32m    883\u001B[0m \u001B[43m        \u001B[49m\u001B[43mpool_timeout\u001B[49m\u001B[38;5;241;43m=\u001B[39;49m\u001B[43mpool_timeout\u001B[49m\u001B[43m,\u001B[49m\n\u001B[1;32m    884\u001B[0m \u001B[43m        \u001B[49m\u001B[43mrelease_conn\u001B[49m\u001B[38;5;241;43m=\u001B[39;49m\u001B[43mrelease_conn\u001B[49m\u001B[43m,\u001B[49m\n\u001B[1;32m    885\u001B[0m \u001B[43m        \u001B[49m\u001B[43mchunked\u001B[49m\u001B[38;5;241;43m=\u001B[39;49m\u001B[43mchunked\u001B[49m\u001B[43m,\u001B[49m\n\u001B[1;32m    886\u001B[0m \u001B[43m        \u001B[49m\u001B[43mbody_pos\u001B[49m\u001B[38;5;241;43m=\u001B[39;49m\u001B[43mbody_pos\u001B[49m\u001B[43m,\u001B[49m\n\u001B[1;32m    887\u001B[0m \u001B[43m        \u001B[49m\u001B[43mpreload_content\u001B[49m\u001B[38;5;241;43m=\u001B[39;49m\u001B[43mpreload_content\u001B[49m\u001B[43m,\u001B[49m\n\u001B[1;32m    888\u001B[0m \u001B[43m        \u001B[49m\u001B[43mdecode_content\u001B[49m\u001B[38;5;241;43m=\u001B[39;49m\u001B[43mdecode_content\u001B[49m\u001B[43m,\u001B[49m\n\u001B[1;32m    889\u001B[0m \u001B[43m        \u001B[49m\u001B[38;5;241;43m*\u001B[39;49m\u001B[38;5;241;43m*\u001B[39;49m\u001B[43mresponse_kw\u001B[49m\u001B[43m,\u001B[49m\n\u001B[1;32m    890\u001B[0m \u001B[43m    \u001B[49m\u001B[43m)\u001B[49m\n\u001B[1;32m    892\u001B[0m \u001B[38;5;66;03m# Handle redirect?\u001B[39;00m\n\u001B[1;32m    893\u001B[0m redirect_location \u001B[38;5;241m=\u001B[39m redirect \u001B[38;5;129;01mand\u001B[39;00m response\u001B[38;5;241m.\u001B[39mget_redirect_location()\n",
      "File \u001B[0;32m~/PycharmProjects/parsing/.venv/lib/python3.10/site-packages/urllib3/connectionpool.py:874\u001B[0m, in \u001B[0;36mHTTPConnectionPool.urlopen\u001B[0;34m(self, method, url, body, headers, retries, redirect, assert_same_host, timeout, pool_timeout, release_conn, chunked, body_pos, preload_content, decode_content, **response_kw)\u001B[0m\n\u001B[1;32m    869\u001B[0m \u001B[38;5;28;01mif\u001B[39;00m \u001B[38;5;129;01mnot\u001B[39;00m conn:\n\u001B[1;32m    870\u001B[0m     \u001B[38;5;66;03m# Try again\u001B[39;00m\n\u001B[1;32m    871\u001B[0m     log\u001B[38;5;241m.\u001B[39mwarning(\n\u001B[1;32m    872\u001B[0m         \u001B[38;5;124m\"\u001B[39m\u001B[38;5;124mRetrying (\u001B[39m\u001B[38;5;132;01m%r\u001B[39;00m\u001B[38;5;124m) after connection broken by \u001B[39m\u001B[38;5;124m'\u001B[39m\u001B[38;5;132;01m%r\u001B[39;00m\u001B[38;5;124m'\u001B[39m\u001B[38;5;124m: \u001B[39m\u001B[38;5;132;01m%s\u001B[39;00m\u001B[38;5;124m\"\u001B[39m, retries, err, url\n\u001B[1;32m    873\u001B[0m     )\n\u001B[0;32m--> 874\u001B[0m     \u001B[38;5;28;01mreturn\u001B[39;00m \u001B[38;5;28;43mself\u001B[39;49m\u001B[38;5;241;43m.\u001B[39;49m\u001B[43murlopen\u001B[49m\u001B[43m(\u001B[49m\n\u001B[1;32m    875\u001B[0m \u001B[43m        \u001B[49m\u001B[43mmethod\u001B[49m\u001B[43m,\u001B[49m\n\u001B[1;32m    876\u001B[0m \u001B[43m        \u001B[49m\u001B[43murl\u001B[49m\u001B[43m,\u001B[49m\n\u001B[1;32m    877\u001B[0m \u001B[43m        \u001B[49m\u001B[43mbody\u001B[49m\u001B[43m,\u001B[49m\n\u001B[1;32m    878\u001B[0m \u001B[43m        \u001B[49m\u001B[43mheaders\u001B[49m\u001B[43m,\u001B[49m\n\u001B[1;32m    879\u001B[0m \u001B[43m        \u001B[49m\u001B[43mretries\u001B[49m\u001B[43m,\u001B[49m\n\u001B[1;32m    880\u001B[0m \u001B[43m        \u001B[49m\u001B[43mredirect\u001B[49m\u001B[43m,\u001B[49m\n\u001B[1;32m    881\u001B[0m \u001B[43m        \u001B[49m\u001B[43massert_same_host\u001B[49m\u001B[43m,\u001B[49m\n\u001B[1;32m    882\u001B[0m \u001B[43m        \u001B[49m\u001B[43mtimeout\u001B[49m\u001B[38;5;241;43m=\u001B[39;49m\u001B[43mtimeout\u001B[49m\u001B[43m,\u001B[49m\n\u001B[1;32m    883\u001B[0m \u001B[43m        \u001B[49m\u001B[43mpool_timeout\u001B[49m\u001B[38;5;241;43m=\u001B[39;49m\u001B[43mpool_timeout\u001B[49m\u001B[43m,\u001B[49m\n\u001B[1;32m    884\u001B[0m \u001B[43m        \u001B[49m\u001B[43mrelease_conn\u001B[49m\u001B[38;5;241;43m=\u001B[39;49m\u001B[43mrelease_conn\u001B[49m\u001B[43m,\u001B[49m\n\u001B[1;32m    885\u001B[0m \u001B[43m        \u001B[49m\u001B[43mchunked\u001B[49m\u001B[38;5;241;43m=\u001B[39;49m\u001B[43mchunked\u001B[49m\u001B[43m,\u001B[49m\n\u001B[1;32m    886\u001B[0m \u001B[43m        \u001B[49m\u001B[43mbody_pos\u001B[49m\u001B[38;5;241;43m=\u001B[39;49m\u001B[43mbody_pos\u001B[49m\u001B[43m,\u001B[49m\n\u001B[1;32m    887\u001B[0m \u001B[43m        \u001B[49m\u001B[43mpreload_content\u001B[49m\u001B[38;5;241;43m=\u001B[39;49m\u001B[43mpreload_content\u001B[49m\u001B[43m,\u001B[49m\n\u001B[1;32m    888\u001B[0m \u001B[43m        \u001B[49m\u001B[43mdecode_content\u001B[49m\u001B[38;5;241;43m=\u001B[39;49m\u001B[43mdecode_content\u001B[49m\u001B[43m,\u001B[49m\n\u001B[1;32m    889\u001B[0m \u001B[43m        \u001B[49m\u001B[38;5;241;43m*\u001B[39;49m\u001B[38;5;241;43m*\u001B[39;49m\u001B[43mresponse_kw\u001B[49m\u001B[43m,\u001B[49m\n\u001B[1;32m    890\u001B[0m \u001B[43m    \u001B[49m\u001B[43m)\u001B[49m\n\u001B[1;32m    892\u001B[0m \u001B[38;5;66;03m# Handle redirect?\u001B[39;00m\n\u001B[1;32m    893\u001B[0m redirect_location \u001B[38;5;241m=\u001B[39m redirect \u001B[38;5;129;01mand\u001B[39;00m response\u001B[38;5;241m.\u001B[39mget_redirect_location()\n",
      "File \u001B[0;32m~/PycharmProjects/parsing/.venv/lib/python3.10/site-packages/urllib3/connectionpool.py:844\u001B[0m, in \u001B[0;36mHTTPConnectionPool.urlopen\u001B[0;34m(self, method, url, body, headers, retries, redirect, assert_same_host, timeout, pool_timeout, release_conn, chunked, body_pos, preload_content, decode_content, **response_kw)\u001B[0m\n\u001B[1;32m    841\u001B[0m \u001B[38;5;28;01melif\u001B[39;00m \u001B[38;5;28misinstance\u001B[39m(new_e, (\u001B[38;5;167;01mOSError\u001B[39;00m, HTTPException)):\n\u001B[1;32m    842\u001B[0m     new_e \u001B[38;5;241m=\u001B[39m ProtocolError(\u001B[38;5;124m\"\u001B[39m\u001B[38;5;124mConnection aborted.\u001B[39m\u001B[38;5;124m\"\u001B[39m, new_e)\n\u001B[0;32m--> 844\u001B[0m retries \u001B[38;5;241m=\u001B[39m \u001B[43mretries\u001B[49m\u001B[38;5;241;43m.\u001B[39;49m\u001B[43mincrement\u001B[49m\u001B[43m(\u001B[49m\n\u001B[1;32m    845\u001B[0m \u001B[43m    \u001B[49m\u001B[43mmethod\u001B[49m\u001B[43m,\u001B[49m\u001B[43m \u001B[49m\u001B[43murl\u001B[49m\u001B[43m,\u001B[49m\u001B[43m \u001B[49m\u001B[43merror\u001B[49m\u001B[38;5;241;43m=\u001B[39;49m\u001B[43mnew_e\u001B[49m\u001B[43m,\u001B[49m\u001B[43m \u001B[49m\u001B[43m_pool\u001B[49m\u001B[38;5;241;43m=\u001B[39;49m\u001B[38;5;28;43mself\u001B[39;49m\u001B[43m,\u001B[49m\u001B[43m \u001B[49m\u001B[43m_stacktrace\u001B[49m\u001B[38;5;241;43m=\u001B[39;49m\u001B[43msys\u001B[49m\u001B[38;5;241;43m.\u001B[39;49m\u001B[43mexc_info\u001B[49m\u001B[43m(\u001B[49m\u001B[43m)\u001B[49m\u001B[43m[\u001B[49m\u001B[38;5;241;43m2\u001B[39;49m\u001B[43m]\u001B[49m\n\u001B[1;32m    846\u001B[0m \u001B[43m\u001B[49m\u001B[43m)\u001B[49m\n\u001B[1;32m    847\u001B[0m retries\u001B[38;5;241m.\u001B[39msleep()\n\u001B[1;32m    849\u001B[0m \u001B[38;5;66;03m# Keep track of the error for the retry warning.\u001B[39;00m\n",
      "File \u001B[0;32m~/PycharmProjects/parsing/.venv/lib/python3.10/site-packages/urllib3/util/retry.py:515\u001B[0m, in \u001B[0;36mRetry.increment\u001B[0;34m(self, method, url, response, error, _pool, _stacktrace)\u001B[0m\n\u001B[1;32m    513\u001B[0m \u001B[38;5;28;01mif\u001B[39;00m new_retry\u001B[38;5;241m.\u001B[39mis_exhausted():\n\u001B[1;32m    514\u001B[0m     reason \u001B[38;5;241m=\u001B[39m error \u001B[38;5;129;01mor\u001B[39;00m ResponseError(cause)\n\u001B[0;32m--> 515\u001B[0m     \u001B[38;5;28;01mraise\u001B[39;00m MaxRetryError(_pool, url, reason) \u001B[38;5;28;01mfrom\u001B[39;00m \u001B[38;5;21;01mreason\u001B[39;00m  \u001B[38;5;66;03m# type: ignore[arg-type]\u001B[39;00m\n\u001B[1;32m    517\u001B[0m log\u001B[38;5;241m.\u001B[39mdebug(\u001B[38;5;124m\"\u001B[39m\u001B[38;5;124mIncremented Retry for (url=\u001B[39m\u001B[38;5;124m'\u001B[39m\u001B[38;5;132;01m%s\u001B[39;00m\u001B[38;5;124m'\u001B[39m\u001B[38;5;124m): \u001B[39m\u001B[38;5;132;01m%r\u001B[39;00m\u001B[38;5;124m\"\u001B[39m, url, new_retry)\n\u001B[1;32m    519\u001B[0m \u001B[38;5;28;01mreturn\u001B[39;00m new_retry\n",
      "\u001B[0;31mMaxRetryError\u001B[0m: HTTPConnectionPool(host='localhost', port=55441): Max retries exceeded with url: /session/a10a385e9f87c5c41f11b60329945155/elements (Caused by NewConnectionError('<urllib3.connection.HTTPConnection object at 0x7f4abe088b20>: Failed to establish a new connection: [Errno 111] Connection refused'))"
     ]
    }
   ],
   "source": [
    "from selenium.webdriver import Keys\n",
    "\n",
    "squares = []\n",
    "layouts = []\n",
    "floors = []\n",
    "links=[]\n",
    "addresses = []\n",
    "main_prices = []\n",
    "sq_prices = []\n",
    "descriptions = []\n",
    "lost_descriptions = []\n",
    "broken_title = []\n",
    "while True:\n",
    "    time.sleep(2)\n",
    "    # Извлечение данных объявлений\n",
    "    ads = driver.find_elements(By.XPATH, \".//article[@data-name='CardComponent']\")\n",
    "\n",
    "    for ad in ads:\n",
    "        title = ad.find_element(By.XPATH, \".//span[@data-mark='OfferTitle']\").text\n",
    "        try:\n",
    "\n",
    "            layout = title[:title.index(',')].strip()\n",
    "            square = title[title.index(',')+1:title.index('м²,')].strip()\n",
    "            floor = title[title.index('м²,')+3:].strip()\n",
    "        except:\n",
    "            link = ad.find_element(By.CLASS_NAME, \"_93444fe79c--link--eoxce\").get_attribute('href')\n",
    "            print(title)\n",
    "            broken_title.append(link)\n",
    "            continue\n",
    "        layouts.append(layout)\n",
    "        squares.append(square)\n",
    "        floors.append(floor)\n",
    "        links.append(ad.find_element(By.CLASS_NAME, \"_93444fe79c--link--eoxce\").get_attribute('href'))\n",
    "\n",
    "        addresses.append(ad.find_element(By.CLASS_NAME, \"_93444fe79c--labels--L8WyJ\").text)\n",
    "\n",
    "        main_prices.append(ad.find_element(By.XPATH, \".//span[@data-mark='MainPrice']\").text)\n",
    "\n",
    "        sq_prices.append(ad.find_element(By.XPATH, \".//p[@data-mark='PriceInfo']\").text)\n",
    "\n",
    "        try:\n",
    "            descriptions.append(ad.find_element(By.CLASS_NAME, \"_93444fe79c--description--SqTNp\").text)\n",
    "        except NoSuchElementException:\n",
    "            descriptions.append('')\n",
    "            lost_descriptions.append(len(addresses))\n",
    "    # Проверка наличия кнопки \"Дальше\"\n",
    "    try:\n",
    "        next_button = driver.find_element(By.XPATH, '//a[contains(@class, \"_93444fe79c--button--Cp1dl\") and contains(@class, \"_93444fe79c--link-button--Pewgf\") and contains(@class, \"_93444fe79c--M--T3GjF\") and contains(@class, \"_93444fe79c--button--dh5GL\") and span[@class=\"_93444fe79c--text--rH6sj\" and text()=\"Дальше\"]]')\n",
    "    except Exception as e:\n",
    "        print(e)\n",
    "        break\n",
    "\n",
    "    body = driver.find_element(By.TAG_NAME, \"body\")\n",
    "    # Кликнуть на кнопку \"Дальше\" для перехода на следующую страницу\n",
    "    next_button.click()\n",
    "len(broken_title)"
   ],
   "metadata": {
    "collapsed": false,
    "ExecuteTime": {
     "end_time": "2023-06-07T11:20:08.329910739Z",
     "start_time": "2023-06-07T11:20:06.016084340Z"
    }
   }
  },
  {
   "cell_type": "code",
   "execution_count": 29,
   "outputs": [
    {
     "name": "stdout",
     "output_type": "stream",
     "text": [
      "605 605 605 605 605 605 605\n",
      "605 объявлений обработаны за 114.20099186897278 секунд.\n"
     ]
    },
    {
     "data": {
      "text/plain": "    squares      layouts    floors  \\\n0      33,7  1-комн. кв.  3/8 этаж   \n1      37,7  1-комн. кв.  3/9 этаж   \n2      29,3  1-комн. кв.  4/5 этаж   \n3      44,2  2-комн. кв.  3/5 этаж   \n4      31,5  2-комн. кв.  1/1 этаж   \n..      ...          ...       ...   \n600      24  1-комн. кв.  1/5 этаж   \n601      34  1-комн. кв.  4/6 этаж   \n602    17,6  1-комн. кв.  1/4 этаж   \n603    30,4  1-комн. кв.  1/2 этаж   \n604    32,6  1-комн. кв.  8/9 этаж   \n\n                                               address   main_price  \\\n0                 Республика Крым, Феодосия, Утесов ЖК  4 381 000 ₽   \n1    Республика Крым, Евпатория, проспект Победы, 8...  4 350 000 ₽   \n2    Республика Крым, Феодосия городской округ, Орд...  4 400 000 ₽   \n3             Республика Крым, Джанкой, улица Толстого  4 500 000 ₽   \n4    Республика Крым, Симферополь, р-н Железнодорож...  4 500 000 ₽   \n..                                                 ...          ...   \n600      Республика Крым, Саки, улица Строительная, 16  3 600 000 ₽   \n601     Республика Крым, Алушта, улица Октябрьская, 43  4 500 000 ₽   \n602        Республика Крым, Алушта, улица Туристов, 1А  1 700 000 ₽   \n603       Республика Крым, Саки, улица Гайнутдинова, 3  3 900 000 ₽   \n604       Республика Крым, Алушта, улица Юбилейная, 16  4 850 000 ₽   \n\n         sq_price                                      links  \\\n0    130 000 ₽/м²  https://krym.cian.ru/sale/flat/274690246/   \n1    115 385 ₽/м²  https://krym.cian.ru/sale/flat/287297423/   \n2    150 171 ₽/м²  https://krym.cian.ru/sale/flat/286560661/   \n3    101 810 ₽/м²  https://krym.cian.ru/sale/flat/286554975/   \n4    142 857 ₽/м²  https://krym.cian.ru/sale/flat/287178223/   \n..            ...                                        ...   \n600  150 000 ₽/м²  https://krym.cian.ru/sale/flat/284926866/   \n601  132 353 ₽/м²  https://krym.cian.ru/sale/flat/281601789/   \n602   96 591 ₽/м²  https://krym.cian.ru/sale/flat/288084669/   \n603  128 289 ₽/м²  https://krym.cian.ru/sale/flat/284603093/   \n604  148 773 ₽/м²  https://krym.cian.ru/sale/flat/287552062/   \n\n                                           description  \n0                                                       \n1    СРОЧНАЯ ПРОДАЖА Продается шикарная - просторна...  \n2    В продаже уютная однокомнатная квартира в куро...  \n3    Двухкомнатная квартира для Вашей семьи в Джанк...  \n4    Отличный вариант для жизни и сдачи в аренду! Д...  \n..                                                 ...  \n600  Предлагается к продаже однокомнатная квартира ...  \n601  Продается светлая и просторная 1-но комнатная ...  \n602  Объект 58492 В продаже 1-комнатная квартира в ...  \n603  Продам 1к квартиру в г. Саки! Продается отличн...  \n604  Объект 57089 Продается 1-комнатная квартира в ...  \n\n[605 rows x 8 columns]",
      "text/html": "<div>\n<style scoped>\n    .dataframe tbody tr th:only-of-type {\n        vertical-align: middle;\n    }\n\n    .dataframe tbody tr th {\n        vertical-align: top;\n    }\n\n    .dataframe thead th {\n        text-align: right;\n    }\n</style>\n<table border=\"1\" class=\"dataframe\">\n  <thead>\n    <tr style=\"text-align: right;\">\n      <th></th>\n      <th>squares</th>\n      <th>layouts</th>\n      <th>floors</th>\n      <th>address</th>\n      <th>main_price</th>\n      <th>sq_price</th>\n      <th>links</th>\n      <th>description</th>\n    </tr>\n  </thead>\n  <tbody>\n    <tr>\n      <th>0</th>\n      <td>33,7</td>\n      <td>1-комн. кв.</td>\n      <td>3/8 этаж</td>\n      <td>Республика Крым, Феодосия, Утесов ЖК</td>\n      <td>4 381 000 ₽</td>\n      <td>130 000 ₽/м²</td>\n      <td>https://krym.cian.ru/sale/flat/274690246/</td>\n      <td></td>\n    </tr>\n    <tr>\n      <th>1</th>\n      <td>37,7</td>\n      <td>1-комн. кв.</td>\n      <td>3/9 этаж</td>\n      <td>Республика Крым, Евпатория, проспект Победы, 8...</td>\n      <td>4 350 000 ₽</td>\n      <td>115 385 ₽/м²</td>\n      <td>https://krym.cian.ru/sale/flat/287297423/</td>\n      <td>СРОЧНАЯ ПРОДАЖА Продается шикарная - просторна...</td>\n    </tr>\n    <tr>\n      <th>2</th>\n      <td>29,3</td>\n      <td>1-комн. кв.</td>\n      <td>4/5 этаж</td>\n      <td>Республика Крым, Феодосия городской округ, Орд...</td>\n      <td>4 400 000 ₽</td>\n      <td>150 171 ₽/м²</td>\n      <td>https://krym.cian.ru/sale/flat/286560661/</td>\n      <td>В продаже уютная однокомнатная квартира в куро...</td>\n    </tr>\n    <tr>\n      <th>3</th>\n      <td>44,2</td>\n      <td>2-комн. кв.</td>\n      <td>3/5 этаж</td>\n      <td>Республика Крым, Джанкой, улица Толстого</td>\n      <td>4 500 000 ₽</td>\n      <td>101 810 ₽/м²</td>\n      <td>https://krym.cian.ru/sale/flat/286554975/</td>\n      <td>Двухкомнатная квартира для Вашей семьи в Джанк...</td>\n    </tr>\n    <tr>\n      <th>4</th>\n      <td>31,5</td>\n      <td>2-комн. кв.</td>\n      <td>1/1 этаж</td>\n      <td>Республика Крым, Симферополь, р-н Железнодорож...</td>\n      <td>4 500 000 ₽</td>\n      <td>142 857 ₽/м²</td>\n      <td>https://krym.cian.ru/sale/flat/287178223/</td>\n      <td>Отличный вариант для жизни и сдачи в аренду! Д...</td>\n    </tr>\n    <tr>\n      <th>...</th>\n      <td>...</td>\n      <td>...</td>\n      <td>...</td>\n      <td>...</td>\n      <td>...</td>\n      <td>...</td>\n      <td>...</td>\n      <td>...</td>\n    </tr>\n    <tr>\n      <th>600</th>\n      <td>24</td>\n      <td>1-комн. кв.</td>\n      <td>1/5 этаж</td>\n      <td>Республика Крым, Саки, улица Строительная, 16</td>\n      <td>3 600 000 ₽</td>\n      <td>150 000 ₽/м²</td>\n      <td>https://krym.cian.ru/sale/flat/284926866/</td>\n      <td>Предлагается к продаже однокомнатная квартира ...</td>\n    </tr>\n    <tr>\n      <th>601</th>\n      <td>34</td>\n      <td>1-комн. кв.</td>\n      <td>4/6 этаж</td>\n      <td>Республика Крым, Алушта, улица Октябрьская, 43</td>\n      <td>4 500 000 ₽</td>\n      <td>132 353 ₽/м²</td>\n      <td>https://krym.cian.ru/sale/flat/281601789/</td>\n      <td>Продается светлая и просторная 1-но комнатная ...</td>\n    </tr>\n    <tr>\n      <th>602</th>\n      <td>17,6</td>\n      <td>1-комн. кв.</td>\n      <td>1/4 этаж</td>\n      <td>Республика Крым, Алушта, улица Туристов, 1А</td>\n      <td>1 700 000 ₽</td>\n      <td>96 591 ₽/м²</td>\n      <td>https://krym.cian.ru/sale/flat/288084669/</td>\n      <td>Объект 58492 В продаже 1-комнатная квартира в ...</td>\n    </tr>\n    <tr>\n      <th>603</th>\n      <td>30,4</td>\n      <td>1-комн. кв.</td>\n      <td>1/2 этаж</td>\n      <td>Республика Крым, Саки, улица Гайнутдинова, 3</td>\n      <td>3 900 000 ₽</td>\n      <td>128 289 ₽/м²</td>\n      <td>https://krym.cian.ru/sale/flat/284603093/</td>\n      <td>Продам 1к квартиру в г. Саки! Продается отличн...</td>\n    </tr>\n    <tr>\n      <th>604</th>\n      <td>32,6</td>\n      <td>1-комн. кв.</td>\n      <td>8/9 этаж</td>\n      <td>Республика Крым, Алушта, улица Юбилейная, 16</td>\n      <td>4 850 000 ₽</td>\n      <td>148 773 ₽/м²</td>\n      <td>https://krym.cian.ru/sale/flat/287552062/</td>\n      <td>Объект 57089 Продается 1-комнатная квартира в ...</td>\n    </tr>\n  </tbody>\n</table>\n<p>605 rows × 8 columns</p>\n</div>"
     },
     "execution_count": 29,
     "metadata": {},
     "output_type": "execute_result"
    }
   ],
   "source": [
    "print(len(squares),len(layouts),len(floors),len(addresses),len(main_prices),len(sq_prices),len(descriptions))\n",
    "data = {\n",
    "    'squares' : squares,\n",
    "    'layouts' : layouts,\n",
    "    'floors' : floors,\n",
    "    'address': addresses,\n",
    "    'main_price': main_prices,\n",
    "    'sq_price': sq_prices,\n",
    "    'links': links,\n",
    "    'description': descriptions,\n",
    "}\n",
    "driver.quit()\n",
    "end_time = time.time()\n",
    "execution_time = end_time - start_time\n",
    "print(f\"{len(squares)} объявлений обработаны за {execution_time} секунд.\")\n",
    "df = pd.DataFrame(data)\n",
    "df"
   ],
   "metadata": {
    "collapsed": false,
    "ExecuteTime": {
     "end_time": "2023-06-07T11:18:32.273793151Z",
     "start_time": "2023-06-07T11:18:32.127755974Z"
    }
   }
  },
  {
   "cell_type": "code",
   "execution_count": 16,
   "outputs": [
    {
     "name": "stdout",
     "output_type": "stream",
     "text": [
      "1537\n",
      "190\n",
      "180\n",
      "170\n",
      "160\n",
      "150\n",
      "140\n",
      "130\n",
      "120\n",
      "110\n",
      "100\n",
      "90\n",
      "80\n",
      "70\n",
      "60\n",
      "50\n",
      "40\n",
      "30\n",
      "20\n",
      "10\n"
     ]
    }
   ],
   "source": [
    "# парсинг по каждому объявлению\n",
    "latitude = []\n",
    "longitude = []\n",
    "dates = []\n",
    "total_area = []\n",
    "addresses = []\n",
    "main_prices = []\n",
    "sq_prices = []\n",
    "descriptions = []\n",
    "\n",
    "\n",
    "start_time = time.time()\n",
    "driver = uc.Chrome()\n",
    "i = 200\n",
    "links1 = links + broken_title\n",
    "print(len(links1))\n",
    "for link in links+broken_title:\n",
    "    try:\n",
    "        driver.get(link)\n",
    "        # latitude =\n",
    "        # longitude =\n",
    "\n",
    "        dates.append(driver.find_element(By.CLASS_NAME, \"a10a3f92e9--color_gray40_100--ppbi0.a10a3f92e9--lineHeight_5u--cJ35s.a10a3f92e9--fontWeight_normal--P9Ylg.a10a3f92e9--fontSize_14px--TCfeJ.a10a3f92e9--display_block--pDAEx.a10a3f92e9--text--g9xAG.a10a3f92e9--text_letterSpacing__0--mdnqq\").text)\n",
    "\n",
    "\n",
    "        data1 = driver.find_elements(By.XPATH, \".//div[@data-name='ObjectFactoidsItem']\")\n",
    "\n",
    "        total_area.append(data1[0].text.split('\\n')[1])\n",
    "\n",
    "\n",
    "        addresses.append(driver.find_element(By.CLASS_NAME, \"a10a3f92e9--address-line--GRDTb\").text[:-8])\n",
    "        main_prices.append(driver.find_element(By.XPATH, \".//div[@data-name='PriceInfo']\").text)\n",
    "        data2 = driver.find_elements(By.CLASS_NAME, \"a10a3f92e9--color_black_100--kPHhJ.a10a3f92e9--lineHeight_20px--tUURJ.a10a3f92e9--fontWeight_normal--P9Ylg.a10a3f92e9--fontSize_14px--TCfeJ.a10a3f92e9--display_block--pDAEx.a10a3f92e9--text--g9xAG.a10a3f92e9--text_letterSpacing__normal--xbqP6\")\n",
    "        sq_prices.append(data2[1].text)\n",
    "        descriptions.append(driver.find_element(By.CLASS_NAME, \"a10a3f92e9--color_black_100--kPHhJ.a10a3f92e9--lineHeight_6u--A1GMI.a10a3f92e9--fontWeight_normal--P9Ylg.a10a3f92e9--fontSize_16px--RB9YW.a10a3f92e9--display_block--pDAEx.a10a3f92e9--text--g9xAG.a10a3f92e9--text_letterSpacing__0--mdnqq.a10a3f92e9--text_whiteSpace__pre-wrap--scZwb\").text)\n",
    "    except Exception as e:\n",
    "        print()\n",
    "        print(e)\n",
    "        print(link)\n",
    "    i-=1\n",
    "    if i ==0:\n",
    "        break\n",
    "    if i %10 == 0:\n",
    "        print(i)\n",
    "driver.quit()\n"
   ],
   "metadata": {
    "collapsed": false,
    "ExecuteTime": {
     "end_time": "2023-06-07T06:23:19.777630867Z",
     "start_time": "2023-06-07T06:17:00.719236325Z"
    }
   }
  },
  {
   "cell_type": "code",
   "execution_count": 17,
   "outputs": [
    {
     "name": "stdout",
     "output_type": "stream",
     "text": [
      "200\n",
      "200 объявлений обработаны за 379.5182251930237 секунд.\n"
     ]
    },
    {
     "data": {
      "text/plain": "                         dates total_area  \\\n0      Обновлено: 5 июн, 18:16  197,09 м²   \n1      Обновлено: 5 июн, 18:46   48,39 м²   \n2     Обновлено: 23 май, 11:06      25 м²   \n3      Обновлено: 5 июн, 18:46   60,71 м²   \n4     Обновлено: 23 май, 11:07    65,1 м²   \n..                         ...        ...   \n195    Обновлено: 3 июн, 04:54      32 м²   \n196  Обновлено: сегодня, 05:19     130 м²   \n197   Обновлено: 30 май, 14:59      20 м²   \n198  Обновлено: сегодня, 05:05   87,17 м²   \n199  Обновлено: сегодня, 05:01    67,8 м²   \n\n                                             addresses   main_prices  \\\n0    Крым респ., Алушта, Профессорский Уголок микро...  40 032 527 ₽   \n1    Крым респ., Алушта, Профессорский Уголок микро...   9 529 946 ₽   \n2    Крым респ., Бахчисарайский район, Песчаное сел...   1 800 000 ₽   \n3                Крым респ., Алушта, ул. Западная, 4к3   8 900 000 ₽   \n4    Крым респ., Бахчисарайский район, Песчаное сел...   5 300 000 ₽   \n..                                                 ...           ...   \n195  Крым респ., Симферополь, р-н Железнодорожный, ...   4 200 000 ₽   \n196  Крым респ., Ялта городской округ, Гурзуф пгт, ...  31 000 000 ₽   \n197               Крым респ., Алушта, пер. Базарный, 1   3 700 000 ₽   \n198  Крым респ., Симферопольский район, Мирное село...   8 542 660 ₽   \n199  Крым респ., Ялта городской округ, Восход пгт, ...  10 170 000 ₽   \n\n        sq_prices                                       descriptions  \n0    203 118 ₽/м²  Продаётся 3-комнатная квартира в сданном доме ...  \n1    196 940 ₽/м²  Продаётся 2-комнатная квартира в строящемся до...  \n2     72 000 ₽/м²  Апартаменты в цоколе 25 м2, трехэтажного дома....  \n3    146 599 ₽/м²  Продаются 1-комнатные апартаменты в сданном до...  \n4     81 413 ₽/м²  Трехкомнатная квартира 65,1 м2 на этаже 2/2 до...  \n..            ...                                                ...  \n195  131 250 ₽/м²  Лучшее решение для вас в одном из самых привле...  \n196  238 462 ₽/м²  Квартира 801 на 9 этаже комплекса с собственно...  \n197  185 000 ₽/м²  МЫ НЕ БЕРЕМ КОМИССИЮ С ПОКУПАТЕЛЯ!!!\\nПредлага...  \n198   98 000 ₽/м²  Продаётся 3-комнатная квартира в строящемся до...  \n199  150 000 ₽/м²  2 этаж, 112. Территория комплекса озеленена. С...  \n\n[200 rows x 6 columns]",
      "text/html": "<div>\n<style scoped>\n    .dataframe tbody tr th:only-of-type {\n        vertical-align: middle;\n    }\n\n    .dataframe tbody tr th {\n        vertical-align: top;\n    }\n\n    .dataframe thead th {\n        text-align: right;\n    }\n</style>\n<table border=\"1\" class=\"dataframe\">\n  <thead>\n    <tr style=\"text-align: right;\">\n      <th></th>\n      <th>dates</th>\n      <th>total_area</th>\n      <th>addresses</th>\n      <th>main_prices</th>\n      <th>sq_prices</th>\n      <th>descriptions</th>\n    </tr>\n  </thead>\n  <tbody>\n    <tr>\n      <th>0</th>\n      <td>Обновлено: 5 июн, 18:16</td>\n      <td>197,09 м²</td>\n      <td>Крым респ., Алушта, Профессорский Уголок микро...</td>\n      <td>40 032 527 ₽</td>\n      <td>203 118 ₽/м²</td>\n      <td>Продаётся 3-комнатная квартира в сданном доме ...</td>\n    </tr>\n    <tr>\n      <th>1</th>\n      <td>Обновлено: 5 июн, 18:46</td>\n      <td>48,39 м²</td>\n      <td>Крым респ., Алушта, Профессорский Уголок микро...</td>\n      <td>9 529 946 ₽</td>\n      <td>196 940 ₽/м²</td>\n      <td>Продаётся 2-комнатная квартира в строящемся до...</td>\n    </tr>\n    <tr>\n      <th>2</th>\n      <td>Обновлено: 23 май, 11:06</td>\n      <td>25 м²</td>\n      <td>Крым респ., Бахчисарайский район, Песчаное сел...</td>\n      <td>1 800 000 ₽</td>\n      <td>72 000 ₽/м²</td>\n      <td>Апартаменты в цоколе 25 м2, трехэтажного дома....</td>\n    </tr>\n    <tr>\n      <th>3</th>\n      <td>Обновлено: 5 июн, 18:46</td>\n      <td>60,71 м²</td>\n      <td>Крым респ., Алушта, ул. Западная, 4к3</td>\n      <td>8 900 000 ₽</td>\n      <td>146 599 ₽/м²</td>\n      <td>Продаются 1-комнатные апартаменты в сданном до...</td>\n    </tr>\n    <tr>\n      <th>4</th>\n      <td>Обновлено: 23 май, 11:07</td>\n      <td>65,1 м²</td>\n      <td>Крым респ., Бахчисарайский район, Песчаное сел...</td>\n      <td>5 300 000 ₽</td>\n      <td>81 413 ₽/м²</td>\n      <td>Трехкомнатная квартира 65,1 м2 на этаже 2/2 до...</td>\n    </tr>\n    <tr>\n      <th>...</th>\n      <td>...</td>\n      <td>...</td>\n      <td>...</td>\n      <td>...</td>\n      <td>...</td>\n      <td>...</td>\n    </tr>\n    <tr>\n      <th>195</th>\n      <td>Обновлено: 3 июн, 04:54</td>\n      <td>32 м²</td>\n      <td>Крым респ., Симферополь, р-н Железнодорожный, ...</td>\n      <td>4 200 000 ₽</td>\n      <td>131 250 ₽/м²</td>\n      <td>Лучшее решение для вас в одном из самых привле...</td>\n    </tr>\n    <tr>\n      <th>196</th>\n      <td>Обновлено: сегодня, 05:19</td>\n      <td>130 м²</td>\n      <td>Крым респ., Ялта городской округ, Гурзуф пгт, ...</td>\n      <td>31 000 000 ₽</td>\n      <td>238 462 ₽/м²</td>\n      <td>Квартира 801 на 9 этаже комплекса с собственно...</td>\n    </tr>\n    <tr>\n      <th>197</th>\n      <td>Обновлено: 30 май, 14:59</td>\n      <td>20 м²</td>\n      <td>Крым респ., Алушта, пер. Базарный, 1</td>\n      <td>3 700 000 ₽</td>\n      <td>185 000 ₽/м²</td>\n      <td>МЫ НЕ БЕРЕМ КОМИССИЮ С ПОКУПАТЕЛЯ!!!\\nПредлага...</td>\n    </tr>\n    <tr>\n      <th>198</th>\n      <td>Обновлено: сегодня, 05:05</td>\n      <td>87,17 м²</td>\n      <td>Крым респ., Симферопольский район, Мирное село...</td>\n      <td>8 542 660 ₽</td>\n      <td>98 000 ₽/м²</td>\n      <td>Продаётся 3-комнатная квартира в строящемся до...</td>\n    </tr>\n    <tr>\n      <th>199</th>\n      <td>Обновлено: сегодня, 05:01</td>\n      <td>67,8 м²</td>\n      <td>Крым респ., Ялта городской округ, Восход пгт, ...</td>\n      <td>10 170 000 ₽</td>\n      <td>150 000 ₽/м²</td>\n      <td>2 этаж, 112. Территория комплекса озеленена. С...</td>\n    </tr>\n  </tbody>\n</table>\n<p>200 rows × 6 columns</p>\n</div>"
     },
     "execution_count": 17,
     "metadata": {},
     "output_type": "execute_result"
    }
   ],
   "source": [
    "print(len(dates))\n",
    "data = {\n",
    "    # 'latitude': latitude,\n",
    "    # 'longitude': longitude,\n",
    "    'dates' : dates,\n",
    "    'total_area' : total_area,\n",
    "    'addresses' : addresses,\n",
    "    'main_prices' : main_prices,\n",
    "    'sq_prices' : sq_prices,\n",
    "    'descriptions' : descriptions,\n",
    "}\n",
    "driver.quit()\n",
    "end_time = time.time()\n",
    "execution_time = end_time - start_time\n",
    "print(f\"{len(dates)} объявлений обработаны за {execution_time} секунд.\")\n",
    "df = pd.DataFrame(data)\n",
    "df"
   ],
   "metadata": {
    "collapsed": false,
    "ExecuteTime": {
     "end_time": "2023-06-07T06:23:20.247518510Z",
     "start_time": "2023-06-07T06:23:19.777376075Z"
    }
   }
  },
  {
   "cell_type": "code",
   "execution_count": null,
   "outputs": [],
   "source": [
    "import requests\n",
    "from bs4 import BeautifulSoup\n",
    "import pandas as pd\n",
    "import time\n",
    "\n",
    "dates = []\n",
    "total_area = []\n",
    "addresses = []\n",
    "main_prices = []\n",
    "sq_prices = []\n",
    "descriptions = []\n",
    "\n",
    "start_time = time.time()\n",
    "\n",
    "for link in links:\n",
    "    try:\n",
    "        response = requests.get(link)\n",
    "        soup = BeautifulSoup(response.content, 'html.parser')\n",
    "\n",
    "        dates.append(soup.find('div', class_='a10a3f92e9--color_gray40_100--ppbi0.a10a3f92e9--lineHeight_5u--cJ35s'\n",
    "                                             '.a10a3f92e9--fontWeight_normal--P9Ylg.a10a3f92e9--fontSize_14px--TCfeJ'\n",
    "                                             '.a10a3f92e9--display_block--pDAEx.a10a3f92e9--text--g9xAG.a10a3f92e9'\n",
    "                                             '--text_letterSpacing__0--mdnqq').text)\n",
    "\n",
    "        data1 = soup.find_all('div', {'data-name': 'ObjectFactoidsItem'})\n",
    "        total_area.append(data1[0].find_all('span')[1].text)\n",
    "\n",
    "        addresses.append(soup.find('div', class_='a10a3f92e9--address-line--GRDTb').text[:-8])\n",
    "        main_prices.append(soup.find('div', {'data-name': 'PriceInfo'}).text)\n",
    "\n",
    "        data2 = soup.find_all('span', class_='a10a3f92e9--color_black_100--kPHhJ a10a3f92e9--lineHeight_20px--tUURJ '\n",
    "                                             'a10a3f92e9--fontWeight_normal--P9Ylg a10a3f92e9--fontSize_14px--TCfeJ '\n",
    "                                             'a10a3f92e9--display_block--pDAEx a10a3f92e9--text--g9xAG '\n",
    "                                             'a10a3f92e9--text_letterSpacing__normal--xbqP6')\n",
    "        sq_prices.append(data2[1].text)\n",
    "\n",
    "        descriptions.append(soup.find('span', class_='a10a3f92e9--color_black_100--kPHhJ '\n",
    "                                                     'a10a3f92e9--lineHeight_6u--A1GMI '\n",
    "                                                     'a10a3f92e9--fontWeight_normal--P9Ylg '\n",
    "                                                     'a10a3f92e9--fontSize_16px--RB9YW '\n",
    "                                                     'a10a3f92e9--display_block--pDAEx a10a3f92e9--text--g9xAG '\n",
    "                                                     'a10a3f92e9--text_letterSpacing__0--mdnqq '\n",
    "                                                     'a10a3f92e9--text_whiteSpace__pre-wrap--scZwb').text)\n",
    "    except Exception as e:\n",
    "        print()\n",
    "        print(e)\n",
    "        print(link)"
   ],
   "metadata": {
    "collapsed": false
   }
  },
  {
   "cell_type": "code",
   "execution_count": null,
   "outputs": [],
   "source": [
    "data = {\n",
    "    'dates': dates,\n",
    "    'total_area': total_area,\n",
    "    'addresses': addresses,\n",
    "    'main_prices': main_prices,\n",
    "    'sq_prices': sq_prices,\n",
    "    'descriptions': descriptions,\n",
    "}\n",
    "\n",
    "end_time = time.time()\n",
    "execution_time = end_time - start_time\n",
    "print(f\"{len(dates)} объявлений обработаны за {execution_time} секунд.\")\n",
    "\n",
    "df = pd.DataFrame(data)\n",
    "print(df)"
   ],
   "metadata": {
    "collapsed": false
   }
  },
  {
   "cell_type": "code",
   "execution_count": null,
   "outputs": [],
   "source": [],
   "metadata": {
    "collapsed": false
   }
  }
 ],
 "metadata": {
  "kernelspec": {
   "display_name": "Python 3",
   "language": "python",
   "name": "python3"
  },
  "language_info": {
   "codemirror_mode": {
    "name": "ipython",
    "version": 2
   },
   "file_extension": ".py",
   "mimetype": "text/x-python",
   "name": "python",
   "nbconvert_exporter": "python",
   "pygments_lexer": "ipython2",
   "version": "2.7.6"
  }
 },
 "nbformat": 4,
 "nbformat_minor": 0
}
